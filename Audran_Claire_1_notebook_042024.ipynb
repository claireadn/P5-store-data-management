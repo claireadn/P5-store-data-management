{
 "cells": [
  {
   "cell_type": "markdown",
   "id": "45d22a1f",
   "metadata": {},
   "source": [
    "## 1. Preliminary"
   ]
  },
  {
   "cell_type": "markdown",
   "id": "52641888",
   "metadata": {},
   "source": [
    "### 1.1 Libraries"
   ]
  },
  {
   "cell_type": "code",
   "execution_count": 1,
   "id": "902a9554",
   "metadata": {},
   "outputs": [],
   "source": [
    "import pandas as pd\n",
    "import numpy as np\n",
    "import scipy.stats as st\n",
    "import matplotlib.pyplot as plt\n",
    "import seaborn as sns\n",
    "\n",
    "# Options pandas\n",
    "pd.options.mode.chained_assignment = None"
   ]
  },
  {
   "cell_type": "markdown",
   "id": "27d4e5bd",
   "metadata": {},
   "source": [
    "### 1.2 Data"
   ]
  },
  {
   "cell_type": "code",
   "execution_count": 2,
   "id": "775d59fa",
   "metadata": {},
   "outputs": [
    {
     "name": "stdout",
     "output_type": "stream",
     "text": [
      "ERP Dataset - Shape: (825, 5)\n"
     ]
    }
   ],
   "source": [
    "# ERP Data\n",
    "erp = pd.read_csv(\"erp.csv\", sep=\";\")\n",
    "print(\"ERP Dataset - Shape:\", erp.shape)"
   ]
  },
  {
   "cell_type": "code",
   "execution_count": 3,
   "id": "1f1df19d",
   "metadata": {},
   "outputs": [
    {
     "name": "stdout",
     "output_type": "stream",
     "text": [
      "\n",
      "Web Dataset - Shape: (1513, 28)\n"
     ]
    }
   ],
   "source": [
    "# Website Data\n",
    "web = pd.read_csv(\"web.csv\", sep=\";\")\n",
    "print(\"\\nWeb Dataset - Shape:\", web.shape)"
   ]
  },
  {
   "cell_type": "code",
   "execution_count": 4,
   "id": "0362f308",
   "metadata": {},
   "outputs": [
    {
     "name": "stdout",
     "output_type": "stream",
     "text": [
      "\n",
      "Liaison Dataset - Shape: (825, 2)\n"
     ]
    }
   ],
   "source": [
    "# Linkage Data\n",
    "liaison = pd.read_csv(\"liaison.csv\", sep=\";\")\n",
    "print(\"\\nLiaison Dataset - Shape:\", liaison.shape)"
   ]
  },
  {
   "cell_type": "markdown",
   "id": "3a0fe69f",
   "metadata": {},
   "source": [
    "## 2. Data preparation"
   ]
  },
  {
   "cell_type": "markdown",
   "id": "0ae1d2e1",
   "metadata": {},
   "source": [
    "### 2.1 Data Formatting"
   ]
  },
  {
   "cell_type": "code",
   "execution_count": 5,
   "id": "a9fbdc5d",
   "metadata": {},
   "outputs": [],
   "source": [
    "# Converting variables \"product_id\" and \"onsale_web\" to object\n",
    "erp[\"product_id\"] = erp[\"product_id\"].astype(str)\n",
    "erp[\"onsale_web\"] = erp[\"onsale_web\"].astype(str)"
   ]
  },
  {
   "cell_type": "code",
   "execution_count": 6,
   "id": "44a63131",
   "metadata": {},
   "outputs": [
    {
     "name": "stdout",
     "output_type": "stream",
     "text": [
      "\n",
      "ERP Dataset Info After Formatting:\n",
      "<class 'pandas.core.frame.DataFrame'>\n",
      "RangeIndex: 825 entries, 0 to 824\n",
      "Data columns (total 5 columns):\n",
      " #   Column          Non-Null Count  Dtype  \n",
      "---  ------          --------------  -----  \n",
      " 0   product_id      825 non-null    object \n",
      " 1   onsale_web      825 non-null    object \n",
      " 2   price           825 non-null    float64\n",
      " 3   stock_quantity  825 non-null    int64  \n",
      " 4   stock_status    825 non-null    object \n",
      "dtypes: float64(1), int64(1), object(3)\n",
      "memory usage: 32.4+ KB\n",
      "None\n"
     ]
    }
   ],
   "source": [
    "print(\"\\nERP Dataset Info After Formatting:\")\n",
    "print(erp.info())"
   ]
  },
  {
   "cell_type": "code",
   "execution_count": 7,
   "id": "5fa54978",
   "metadata": {},
   "outputs": [],
   "source": [
    "# Converting dichotomous values to object\n",
    "dichotomous_columns = [\"virtual\", \"post_author\", \"post_parent\", \"menu_order\"]\n",
    "web[dichotomous_columns] = web[dichotomous_columns].astype(str)"
   ]
  },
  {
   "cell_type": "code",
   "execution_count": 8,
   "id": "bd7dd4bb",
   "metadata": {},
   "outputs": [],
   "source": [
    "# Converting date variables to datetime\n",
    "date_columns = [\"post_date\", \"post_date_gmt\", \"post_modified\", \"post_modified_gmt\"]\n",
    "web[date_columns] = web[date_columns].apply(pd.to_datetime)"
   ]
  },
  {
   "cell_type": "code",
   "execution_count": 9,
   "id": "d1f89976",
   "metadata": {},
   "outputs": [
    {
     "name": "stdout",
     "output_type": "stream",
     "text": [
      "\n",
      "Web Dataset Info After Formatting:\n",
      "<class 'pandas.core.frame.DataFrame'>\n",
      "RangeIndex: 1513 entries, 0 to 1512\n",
      "Data columns (total 28 columns):\n",
      " #   Column                 Non-Null Count  Dtype         \n",
      "---  ------                 --------------  -----         \n",
      " 0   sku                    1428 non-null   object        \n",
      " 1   virtual                1513 non-null   object        \n",
      " 2   downloadable           1513 non-null   int64         \n",
      " 3   rating_count           1513 non-null   int64         \n",
      " 4   average_rating         1430 non-null   float64       \n",
      " 5   total_sales            1430 non-null   float64       \n",
      " 6   tax_status             716 non-null    object        \n",
      " 7   tax_class              0 non-null      float64       \n",
      " 8   post_author            1513 non-null   object        \n",
      " 9   post_date              1430 non-null   datetime64[ns]\n",
      " 10  post_date_gmt          1430 non-null   datetime64[ns]\n",
      " 11  post_content           0 non-null      float64       \n",
      " 12  post_title             1430 non-null   object        \n",
      " 13  post_excerpt           716 non-null    object        \n",
      " 14  post_status            1430 non-null   object        \n",
      " 15  comment_status         1430 non-null   object        \n",
      " 16  ping_status            1430 non-null   object        \n",
      " 17  post_password          0 non-null      float64       \n",
      " 18  post_name              1430 non-null   object        \n",
      " 19  post_modified          1430 non-null   datetime64[ns]\n",
      " 20  post_modified_gmt      1430 non-null   datetime64[ns]\n",
      " 21  post_content_filtered  0 non-null      float64       \n",
      " 22  post_parent            1513 non-null   object        \n",
      " 23  guid                   1430 non-null   object        \n",
      " 24  menu_order             1513 non-null   object        \n",
      " 25  post_type              1430 non-null   object        \n",
      " 26  post_mime_type         714 non-null    object        \n",
      " 27  comment_count          1430 non-null   float64       \n",
      "dtypes: datetime64[ns](4), float64(7), int64(2), object(15)\n",
      "memory usage: 331.1+ KB\n",
      "None\n"
     ]
    }
   ],
   "source": [
    "print(\"\\nWeb Dataset Info After Formatting:\")\n",
    "print(web.info())"
   ]
  },
  {
   "cell_type": "code",
   "execution_count": 10,
   "id": "1a7c1b68",
   "metadata": {},
   "outputs": [],
   "source": [
    "# Converting variable \"product_id\" to object\n",
    "liaison[\"product_id\"] = liaison[\"product_id\"].astype(str)"
   ]
  },
  {
   "cell_type": "code",
   "execution_count": 11,
   "id": "6628d56b",
   "metadata": {},
   "outputs": [
    {
     "name": "stdout",
     "output_type": "stream",
     "text": [
      "\n",
      "Liaison Dataset Info After Formatting:\n",
      "<class 'pandas.core.frame.DataFrame'>\n",
      "RangeIndex: 825 entries, 0 to 824\n",
      "Data columns (total 2 columns):\n",
      " #   Column      Non-Null Count  Dtype \n",
      "---  ------      --------------  ----- \n",
      " 0   product_id  825 non-null    object\n",
      " 1   id_web      734 non-null    object\n",
      "dtypes: object(2)\n",
      "memory usage: 13.0+ KB\n",
      "None\n"
     ]
    }
   ],
   "source": [
    "print(\"\\nLiaison Dataset Info After Formatting:\")\n",
    "print(liaison.info())"
   ]
  },
  {
   "cell_type": "markdown",
   "id": "37f7dfc7",
   "metadata": {},
   "source": [
    "### 2.2 Missing Values"
   ]
  },
  {
   "cell_type": "code",
   "execution_count": 12,
   "id": "d7ff9732",
   "metadata": {},
   "outputs": [
    {
     "data": {
      "text/plain": [
       "product_id        0\n",
       "onsale_web        0\n",
       "price             0\n",
       "stock_quantity    0\n",
       "stock_status      0\n",
       "dtype: int64"
      ]
     },
     "execution_count": 12,
     "metadata": {},
     "output_type": "execute_result"
    }
   ],
   "source": [
    "# Checking for missing values in Dataset 1\n",
    "# No missing values found\n",
    "erp.isnull().sum()"
   ]
  },
  {
   "cell_type": "code",
   "execution_count": 13,
   "id": "3120d22d",
   "metadata": {},
   "outputs": [
    {
     "name": "stdout",
     "output_type": "stream",
     "text": [
      "Missing Values in Web Dataset:\n",
      "sku                        85\n",
      "virtual                     0\n",
      "downloadable                0\n",
      "rating_count                0\n",
      "average_rating             83\n",
      "total_sales                83\n",
      "tax_status                797\n",
      "tax_class                1513\n",
      "post_author                 0\n",
      "post_date                  83\n",
      "post_date_gmt              83\n",
      "post_content             1513\n",
      "post_title                 83\n",
      "post_excerpt              797\n",
      "post_status                83\n",
      "comment_status             83\n",
      "ping_status                83\n",
      "post_password            1513\n",
      "post_name                  83\n",
      "post_modified              83\n",
      "post_modified_gmt          83\n",
      "post_content_filtered    1513\n",
      "post_parent                 0\n",
      "guid                       83\n",
      "menu_order                  0\n",
      "post_type                  83\n",
      "post_mime_type            799\n",
      "comment_count              83\n",
      "dtype: int64\n"
     ]
    }
   ],
   "source": [
    "# Checking for missing values in Dataset 2\n",
    "# Observing numerous missing values\n",
    "web_missing_values = web.isnull().sum()\n",
    "print(\"Missing Values in Web Dataset:\")\n",
    "print(web_missing_values)"
   ]
  },
  {
   "cell_type": "code",
   "execution_count": 14,
   "id": "adf2d8f1",
   "metadata": {},
   "outputs": [
    {
     "name": "stdout",
     "output_type": "stream",
     "text": [
      "\n",
      "Variables with Missing Values:\n",
      "sku                        85\n",
      "average_rating             83\n",
      "total_sales                83\n",
      "tax_status                797\n",
      "tax_class                1513\n",
      "post_date                  83\n",
      "post_date_gmt              83\n",
      "post_content             1513\n",
      "post_title                 83\n",
      "post_excerpt              797\n",
      "post_status                83\n",
      "comment_status             83\n",
      "ping_status                83\n",
      "post_password            1513\n",
      "post_name                  83\n",
      "post_modified              83\n",
      "post_modified_gmt          83\n",
      "post_content_filtered    1513\n",
      "guid                       83\n",
      "post_type                  83\n",
      "post_mime_type            799\n",
      "comment_count              83\n",
      "dtype: int64\n"
     ]
    }
   ],
   "source": [
    "# Displaying variables with missing values\n",
    "print(\"\\nVariables with Missing Values:\")\n",
    "print(web_missing_values[web_missing_values > 0])"
   ]
  },
  {
   "cell_type": "code",
   "execution_count": 15,
   "id": "24239f53",
   "metadata": {},
   "outputs": [
    {
     "name": "stdout",
     "output_type": "stream",
     "text": [
      "\n",
      "Detailed View of Missing Values:\n",
      "     sku virtual  downloadable  rating_count  average_rating  total_sales  \\\n",
      "178  NaN       0             0             0             NaN          NaN   \n",
      "179  NaN       0             0             0             NaN          NaN   \n",
      "227  NaN       0             0             0             NaN          NaN   \n",
      "230  NaN       0             0             0             NaN          NaN   \n",
      "231  NaN       0             0             0             NaN          NaN   \n",
      "..   ...     ...           ...           ...             ...          ...   \n",
      "792  NaN       0             0             0             NaN          NaN   \n",
      "793  NaN       0             0             0             NaN          NaN   \n",
      "794  NaN       0             0             0             NaN          NaN   \n",
      "795  NaN       0             0             0             NaN          NaN   \n",
      "796  NaN       0             0             0             NaN          NaN   \n",
      "\n",
      "    tax_status  tax_class post_author post_date  ... post_name  post_modified  \\\n",
      "178        NaN        NaN         nan       NaT  ...       NaN            NaT   \n",
      "179        NaN        NaN         nan       NaT  ...       NaN            NaT   \n",
      "227        NaN        NaN         nan       NaT  ...       NaN            NaT   \n",
      "230        NaN        NaN         nan       NaT  ...       NaN            NaT   \n",
      "231        NaN        NaN         nan       NaT  ...       NaN            NaT   \n",
      "..         ...        ...         ...       ...  ...       ...            ...   \n",
      "792        NaN        NaN         nan       NaT  ...       NaN            NaT   \n",
      "793        NaN        NaN         nan       NaT  ...       NaN            NaT   \n",
      "794        NaN        NaN         nan       NaT  ...       NaN            NaT   \n",
      "795        NaN        NaN         nan       NaT  ...       NaN            NaT   \n",
      "796        NaN        NaN         nan       NaT  ...       NaN            NaT   \n",
      "\n",
      "    post_modified_gmt post_content_filtered post_parent guid menu_order  \\\n",
      "178               NaT                   NaN         nan  NaN        nan   \n",
      "179               NaT                   NaN         nan  NaN        nan   \n",
      "227               NaT                   NaN         nan  NaN        nan   \n",
      "230               NaT                   NaN         nan  NaN        nan   \n",
      "231               NaT                   NaN         nan  NaN        nan   \n",
      "..                ...                   ...         ...  ...        ...   \n",
      "792               NaT                   NaN         nan  NaN        nan   \n",
      "793               NaT                   NaN         nan  NaN        nan   \n",
      "794               NaT                   NaN         nan  NaN        nan   \n",
      "795               NaT                   NaN         nan  NaN        nan   \n",
      "796               NaT                   NaN         nan  NaN        nan   \n",
      "\n",
      "     post_type post_mime_type comment_count  \n",
      "178        NaN            NaN           NaN  \n",
      "179        NaN            NaN           NaN  \n",
      "227        NaN            NaN           NaN  \n",
      "230        NaN            NaN           NaN  \n",
      "231        NaN            NaN           NaN  \n",
      "..         ...            ...           ...  \n",
      "792        NaN            NaN           NaN  \n",
      "793        NaN            NaN           NaN  \n",
      "794        NaN            NaN           NaN  \n",
      "795        NaN            NaN           NaN  \n",
      "796        NaN            NaN           NaN  \n",
      "\n",
      "[85 rows x 28 columns]\n"
     ]
    }
   ],
   "source": [
    "# Detailed examination of missing values\n",
    "print(\"\\nDetailed View of Missing Values:\")\n",
    "print(web.loc[web[\"sku\"].isnull(), :])"
   ]
  },
  {
   "cell_type": "code",
   "execution_count": 16,
   "id": "80447982",
   "metadata": {},
   "outputs": [],
   "source": [
    "web = web.drop([\"tax_class\", \"post_content\", \"post_content_filtered\", \"post_password\"], axis=1)\n",
    "web[\"tax_status\"] = web[\"tax_status\"].fillna(method=\"ffill\")\n",
    "web[\"post_mime_type\"] = web[\"post_mime_type\"].fillna(\"Non disponible\")\n",
    "web[\"post_excerpt\"] = web[\"post_excerpt\"].fillna(\"Non disponible\")\n",
    "web[\"average_rating\"] = web[\"average_rating\"].fillna(0)\n",
    "web[\"comment_count\"] = web[\"comment_count\"].fillna(0)"
   ]
  },
  {
   "cell_type": "code",
   "execution_count": 17,
   "id": "26467fcd",
   "metadata": {},
   "outputs": [
    {
     "name": "stdout",
     "output_type": "stream",
     "text": [
      "\n",
      "Updated Dataset Preview:\n",
      "    sku virtual  downloadable  rating_count  average_rating  total_sales  \\\n",
      "470   0       0             0             0             0.0          0.0   \n",
      "471   1       0             0             0             0.0          0.0   \n",
      "\n",
      "    tax_status post_author           post_date       post_date_gmt  ...  \\\n",
      "470    taxable         2.0 2018-07-31 12:07:23 2018-07-31 10:07:23  ...   \n",
      "471    taxable         2.0 2018-08-08 11:23:43 2018-08-08 09:23:43  ...   \n",
      "\n",
      "    ping_status                                   post_name  \\\n",
      "470      closed  pierre-jean-villa-cote-rotie-fongeant-2017   \n",
      "471      closed    pierre-jean-villa-condrieu-suspendu-2018   \n",
      "\n",
      "          post_modified   post_modified_gmt post_parent  \\\n",
      "470 2019-11-02 13:24:15 2019-11-02 12:24:15         0.0   \n",
      "471 2019-11-02 13:24:01 2019-11-02 12:24:01         0.0   \n",
      "\n",
      "                                                  guid menu_order post_type  \\\n",
      "470  https://www.bottle-neck.fr/?post_type=product&...        0.0   product   \n",
      "471  https://www.bottle-neck.fr/?post_type=product&...        0.0   product   \n",
      "\n",
      "     post_mime_type comment_count  \n",
      "470  Non disponible           0.0  \n",
      "471  Non disponible           0.0  \n",
      "\n",
      "[2 rows x 24 columns]\n"
     ]
    }
   ],
   "source": [
    "# Two missing SKU values found, replacing them to retain associated information\n",
    "web.iloc[[470], [0]] = 0\n",
    "web.iloc[[471], [0]] = 1\n",
    "print(\"\\nUpdated Dataset Preview:\")\n",
    "print(web.iloc[470:472])"
   ]
  },
  {
   "cell_type": "code",
   "execution_count": 18,
   "id": "7d702778",
   "metadata": {},
   "outputs": [],
   "source": [
    "# Removing remaining rows with missing SKU values\n",
    "web = web.dropna(subset=[\"sku\"])"
   ]
  },
  {
   "cell_type": "code",
   "execution_count": 19,
   "id": "510f2d33",
   "metadata": {},
   "outputs": [
    {
     "name": "stdout",
     "output_type": "stream",
     "text": [
      "\n",
      "Web Dataset Shape after Cleaning: (1430, 24)\n"
     ]
    }
   ],
   "source": [
    "# Dataset 2 after cleaning contains 1430 rows and 24 columns\n",
    "print(\"\\nWeb Dataset Shape after Cleaning:\", web.shape)"
   ]
  },
  {
   "cell_type": "code",
   "execution_count": 20,
   "id": "d2bed12f",
   "metadata": {},
   "outputs": [
    {
     "name": "stdout",
     "output_type": "stream",
     "text": [
      "\n",
      "Missing Values in Liaison Dataset:\n",
      "product_id     0\n",
      "id_web        91\n",
      "dtype: int64\n"
     ]
    }
   ],
   "source": [
    "# Dataset 3: 91 missing values\n",
    "# Retaining missing values as they are needed for joins\n",
    "print(\"\\nMissing Values in Liaison Dataset:\")\n",
    "print(liaison.isnull().sum())"
   ]
  },
  {
   "cell_type": "markdown",
   "id": "a73f298c",
   "metadata": {},
   "source": [
    "### 2.3 Outlier detection<a class=\"anchor\" id=\"sous_partie1-3\"></a>"
   ]
  },
  {
   "cell_type": "code",
   "execution_count": 21,
   "id": "d735aa1b",
   "metadata": {},
   "outputs": [
    {
     "name": "stdout",
     "output_type": "stream",
     "text": [
      "            price  stock_quantity\n",
      "count  825.000000      825.000000\n",
      "mean    32.415636       26.496970\n",
      "std     26.795849       45.892422\n",
      "min      5.200000        0.000000\n",
      "25%     14.600000        1.000000\n",
      "50%     24.400000       11.000000\n",
      "75%     42.000000       34.000000\n",
      "max    225.000000      578.000000\n",
      "       downloadable  rating_count  average_rating  total_sales  comment_count\n",
      "count        1430.0        1430.0          1430.0  1430.000000         1430.0\n",
      "mean            0.0           0.0             0.0     4.006993            0.0\n",
      "std             0.0           0.0             0.0     8.510559            0.0\n",
      "min             0.0           0.0             0.0     0.000000            0.0\n",
      "25%             0.0           0.0             0.0     0.000000            0.0\n",
      "50%             0.0           0.0             0.0     1.000000            0.0\n",
      "75%             0.0           0.0             0.0     4.000000            0.0\n",
      "max             0.0           0.0             0.0    96.000000            0.0\n",
      "       product_id id_web\n",
      "count         825    734\n",
      "unique        825    734\n",
      "top          3847  15298\n",
      "freq            1      1\n"
     ]
    }
   ],
   "source": [
    "# No outliers detected in any dataset\n",
    "for df in [erp, web, liaison]:\n",
    "    print(df.describe())"
   ]
  },
  {
   "cell_type": "markdown",
   "id": "2bae44b0",
   "metadata": {},
   "source": [
    "### 2.4 Duplicate detection<a class=\"anchor\" id=\"sous_partie1-4\"></a>"
   ]
  },
  {
   "cell_type": "code",
   "execution_count": 22,
   "id": "da41fe53",
   "metadata": {},
   "outputs": [
    {
     "name": "stdout",
     "output_type": "stream",
     "text": [
      "\n",
      "Duplicate Rows in ERP Dataset:\n",
      "Empty DataFrame\n",
      "Columns: [product_id, onsale_web, price, stock_quantity, stock_status]\n",
      "Index: []\n"
     ]
    }
   ],
   "source": [
    "# Dataset 1: No duplicates found\n",
    "erp_duplicated = erp[erp.duplicated(keep=\"last\")]\n",
    "print(\"\\nDuplicate Rows in ERP Dataset:\")\n",
    "print(erp_duplicated)"
   ]
  },
  {
   "cell_type": "code",
   "execution_count": 23,
   "id": "a665df90",
   "metadata": {},
   "outputs": [
    {
     "name": "stdout",
     "output_type": "stream",
     "text": [
      "\n",
      "Duplicate Rows in Web Dataset (sku + guid):\n",
      "Empty DataFrame\n",
      "Columns: [sku, virtual, downloadable, rating_count, average_rating, total_sales, tax_status, post_author, post_date, post_date_gmt, post_title, post_excerpt, post_status, comment_status, ping_status, post_name, post_modified, post_modified_gmt, post_parent, guid, menu_order, post_type, post_mime_type, comment_count]\n",
      "Index: []\n",
      "\n",
      "[0 rows x 24 columns]\n"
     ]
    }
   ],
   "source": [
    "# Dataset 2: Filtering out attachment duplicates based on \"sku\" and \"guid\"\n",
    "web_sku_guid_duplicates = web[web.duplicated([\"sku\", \"guid\"])]\n",
    "print(\"\\nDuplicate Rows in Web Dataset (sku + guid):\")\n",
    "print(web_sku_guid_duplicates)"
   ]
  },
  {
   "cell_type": "code",
   "execution_count": 24,
   "id": "e29d8f84",
   "metadata": {},
   "outputs": [
    {
     "name": "stdout",
     "output_type": "stream",
     "text": [
      "\n",
      "Duplicate Rows in Liaison Dataset:\n",
      "Empty DataFrame\n",
      "Columns: [product_id, id_web]\n",
      "Index: []\n"
     ]
    }
   ],
   "source": [
    "# Dataset 3: No duplicates found\n",
    "liaison_duplicated = liaison[liaison.duplicated(keep=\"last\")]\n",
    "print(\"\\nDuplicate Rows in Liaison Dataset:\")\n",
    "print(liaison_duplicated)"
   ]
  },
  {
   "cell_type": "markdown",
   "id": "6347cd12",
   "metadata": {},
   "source": [
    "### 2.5 Resetting index and organizing data"
   ]
  },
  {
   "cell_type": "code",
   "execution_count": 25,
   "id": "f79083fd",
   "metadata": {},
   "outputs": [
    {
     "data": {
      "text/html": [
       "<div>\n",
       "<style scoped>\n",
       "    .dataframe tbody tr th:only-of-type {\n",
       "        vertical-align: middle;\n",
       "    }\n",
       "\n",
       "    .dataframe tbody tr th {\n",
       "        vertical-align: top;\n",
       "    }\n",
       "\n",
       "    .dataframe thead th {\n",
       "        text-align: right;\n",
       "    }\n",
       "</style>\n",
       "<table border=\"1\" class=\"dataframe\">\n",
       "  <thead>\n",
       "    <tr style=\"text-align: right;\">\n",
       "      <th></th>\n",
       "      <th>product_id</th>\n",
       "      <th>sku</th>\n",
       "    </tr>\n",
       "  </thead>\n",
       "  <tbody>\n",
       "    <tr>\n",
       "      <th>0</th>\n",
       "      <td>3847</td>\n",
       "      <td>15298</td>\n",
       "    </tr>\n",
       "    <tr>\n",
       "      <th>1</th>\n",
       "      <td>3849</td>\n",
       "      <td>15296</td>\n",
       "    </tr>\n",
       "    <tr>\n",
       "      <th>2</th>\n",
       "      <td>3850</td>\n",
       "      <td>15300</td>\n",
       "    </tr>\n",
       "    <tr>\n",
       "      <th>3</th>\n",
       "      <td>4032</td>\n",
       "      <td>19814</td>\n",
       "    </tr>\n",
       "    <tr>\n",
       "      <th>4</th>\n",
       "      <td>4039</td>\n",
       "      <td>19815</td>\n",
       "    </tr>\n",
       "  </tbody>\n",
       "</table>\n",
       "</div>"
      ],
      "text/plain": [
       "  product_id    sku\n",
       "0       3847  15298\n",
       "1       3849  15296\n",
       "2       3850  15300\n",
       "3       4032  19814\n",
       "4       4039  19815"
      ]
     },
     "metadata": {},
     "output_type": "display_data"
    }
   ],
   "source": [
    "# Fixing an error where \"id_web\" should be renamed to \"sku\"\n",
    "liaison.rename(columns={\"id_web\": \"sku\"}, inplace=True)\n",
    "display(liaison.head())"
   ]
  },
  {
   "cell_type": "code",
   "execution_count": 26,
   "id": "2c9ac54a",
   "metadata": {},
   "outputs": [],
   "source": [
    "# Dataset 1\n",
    "# Resetting index\n",
    "erp.reset_index(drop=True, inplace=True)"
   ]
  },
  {
   "cell_type": "code",
   "execution_count": 27,
   "id": "e279a609",
   "metadata": {},
   "outputs": [],
   "source": [
    "# Dataset 2\n",
    "# Filtering data to include only \"product\" type\n",
    "web_product = web[(web[\"post_type\"] == \"product\")]\n",
    "# Selecting relevant columns for analysis\n",
    "web_product = web_product[[\"sku\", \"total_sales\", \"post_title\", \"post_excerpt\", \"post_status\", \"post_date\", \"post_modified\", \"guid\"]]\n",
    "# Resetting index\n",
    "web_product.reset_index(drop=True, inplace=True)"
   ]
  },
  {
   "cell_type": "code",
   "execution_count": 28,
   "id": "bc633ea7",
   "metadata": {},
   "outputs": [],
   "source": [
    "# Dataset 3\n",
    "# Resetting index\n",
    "liaison.reset_index(drop=True, inplace=True)"
   ]
  },
  {
   "cell_type": "markdown",
   "id": "cde3990b",
   "metadata": {},
   "source": [
    "### 2.6 Merging tables"
   ]
  },
  {
   "cell_type": "code",
   "execution_count": 29,
   "id": "9f886761",
   "metadata": {},
   "outputs": [],
   "source": [
    "# Merging tables\n",
    "def merge_datasets(left_df, right_df, left_on, right_on):\n",
    "    merged_df = pd.merge(left_df, right_df, how=\"right\", on=left_on, indicator=True)\n",
    "    merged_df.drop(\"_merge\", axis=1, inplace=True)\n",
    "    return merged_df"
   ]
  },
  {
   "cell_type": "code",
   "execution_count": 30,
   "id": "662b24a2",
   "metadata": {},
   "outputs": [],
   "source": [
    "df_erp = merge_datasets(liaison, erp, \"product_id\", \"product_id\")\n",
    "df_web = merge_datasets(liaison, web_product, \"sku\", \"sku\")\n",
    "df_bottleneck = merge_datasets(df_erp, df_web, \"product_id\", \"product_id\")"
   ]
  },
  {
   "cell_type": "code",
   "execution_count": 31,
   "id": "27ff24fa",
   "metadata": {},
   "outputs": [],
   "source": [
    "# Cleaning the final merge\n",
    "df_bottleneck.drop(\"sku_y\", axis=1, inplace=True)\n",
    "df_bottleneck.rename(columns={\"sku_x\": \"sku\"}, inplace=True)\n",
    "df_bottleneck = df_bottleneck[['product_id', 'sku', 'post_title', 'post_excerpt', 'price', 'total_sales', 'stock_status', 'post_status', 'post_date', 'post_modified']]\n",
    "df_bottleneck = df_bottleneck.dropna(subset=[\"sku\", \"total_sales\"])\n",
    "df_bottleneck.reset_index(drop=True, inplace=True)"
   ]
  },
  {
   "cell_type": "code",
   "execution_count": 32,
   "id": "33a10a2d",
   "metadata": {},
   "outputs": [
    {
     "data": {
      "text/plain": [
       "(714, 10)"
      ]
     },
     "execution_count": 32,
     "metadata": {},
     "output_type": "execute_result"
    }
   ],
   "source": [
    "# After removing these rows, the dataset contains 734 rows and 10 columns\n",
    "df_bottleneck.shape"
   ]
  },
  {
   "cell_type": "markdown",
   "id": "5ddd2a08",
   "metadata": {},
   "source": [
    "### 3. Revenue and Sales per Product<a class=\"anchor\" id=\"partie2\"></a>"
   ]
  },
  {
   "cell_type": "code",
   "execution_count": 33,
   "id": "035a9693",
   "metadata": {},
   "outputs": [
    {
     "name": "stdout",
     "output_type": "stream",
     "text": [
      "The total number of sales is 2865 bottles.\n"
     ]
    }
   ],
   "source": [
    "ca_prod_bottleneck = df_bottleneck[(df_bottleneck[\"price\"] > 0) & (df_bottleneck[\"total_sales\"] > 0)]\n",
    "quantity_bottleneck = ca_prod_bottleneck[\"total_sales\"].sum()\n",
    "print(\"The total number of sales is\", round(quantity_bottleneck), \"bottles.\")"
   ]
  },
  {
   "cell_type": "code",
   "execution_count": 34,
   "id": "6717523b",
   "metadata": {},
   "outputs": [],
   "source": [
    "# Aggregating columns to get the sum of prices and total quantities for each bottle\n",
    "ca_prod_bottleneck = ca_prod_bottleneck.groupby([\"product_id\", \"sku\", \"post_title\", \"stock_status\"]).agg({\"price\": \"sum\", \"total_sales\": \"sum\"}).reset_index()\n",
    "# Adding the sales revenue column to the dataset\n",
    "ca_prod_bottleneck[\"sales_revenue\"] = ca_prod_bottleneck[\"price\"] * ca_prod_bottleneck[\"total_sales\"]"
   ]
  },
  {
   "cell_type": "code",
   "execution_count": 35,
   "id": "6d992e75",
   "metadata": {},
   "outputs": [
    {
     "name": "stdout",
     "output_type": "stream",
     "text": [
      "The top 10 bottles by sales revenue are as follows:\n",
      "  product_id    sku                                         post_title  \\\n",
      "0       4334   7818             Champagne Gosset Grand Blanc de Blancs   \n",
      "1       4144   1662                        Champagne Gosset Grand Rosé   \n",
      "2       4402   3510                               Cognac Frapin VIP XO   \n",
      "3       4142  11641              Champagne Gosset Grand Millésime 2006   \n",
      "4       4141    304                    Champagne Gosset Grande Réserve   \n",
      "5       4355  12589     Champagne Egly-Ouriet Grand Cru Blanc de Noirs   \n",
      "6       4352  15940     Champagne Egly-Ouriet Grand Cru Millésimé 2008   \n",
      "7       4153  16237   Elian Daros Côtes du Marmandais Clos Baquey 2015   \n",
      "8       6206  16580           Domaine Giudicelli Patrimonio Blanc 2019   \n",
      "9       4068  16416  Gilles Robin Crozes-Hermitage Rouge Papillon 2019   \n",
      "\n",
      "  stock_status  price  total_sales  sales_revenue  \n",
      "0   outofstock   49.0         96.0         4704.0  \n",
      "1      instock   49.0         87.0         4263.0  \n",
      "2      instock  176.0         13.0         2288.0  \n",
      "3      instock   53.0         30.0         1590.0  \n",
      "4      instock   39.0         40.0         1560.0  \n",
      "5      instock  126.5         11.0         1391.5  \n",
      "6   outofstock  225.0          5.0         1125.0  \n",
      "7   outofstock   29.0         36.0         1044.0  \n",
      "8      instock   25.2         41.0         1033.2  \n",
      "9      instock   16.6         62.0         1029.2  \n"
     ]
    }
   ],
   "source": [
    "# Top 10 bottles by sales revenue\n",
    "top_10_revenue = ca_prod_bottleneck.nlargest(10, \"sales_revenue\").reset_index(drop=True)\n",
    "print(\"The top 10 bottles by sales revenue are as follows:\")\n",
    "print(top_10_revenue)"
   ]
  },
  {
   "cell_type": "code",
   "execution_count": 36,
   "id": "b6726ca8",
   "metadata": {},
   "outputs": [
    {
     "name": "stdout",
     "output_type": "stream",
     "text": [
      "\n",
      "The top 10 best-selling bottles are as follows:\n",
      "  product_id    sku                                         post_title  \\\n",
      "0       4334   7818             Champagne Gosset Grand Blanc de Blancs   \n",
      "1       4144   1662                        Champagne Gosset Grand Rosé   \n",
      "2       4068  16416  Gilles Robin Crozes-Hermitage Rouge Papillon 2019   \n",
      "3       4200  16295  Moulin de Gassac IGP Pays d'Hérault Guilhem Ro...   \n",
      "4       4172  16210                   Maurel Pays d'Oc Chardonnay 2019   \n",
      "5       4187  16189  Le Pas de l'Escalette Languedoc Les Petits Pas...   \n",
      "6       6206  16580           Domaine Giudicelli Patrimonio Blanc 2019   \n",
      "7       4141    304                    Champagne Gosset Grande Réserve   \n",
      "8       4729     38         Emile Boeckel Crémant Brut Blanc de Blancs   \n",
      "9       6047  16264     Château de La Liquière Faugères L'Ampoule 2019   \n",
      "\n",
      "  stock_status  price  total_sales  sales_revenue  \n",
      "0   outofstock   49.0         96.0         4704.0  \n",
      "1      instock   49.0         87.0         4263.0  \n",
      "2      instock   16.6         62.0         1029.2  \n",
      "3      instock    5.8         46.0          266.8  \n",
      "4      instock    5.7         43.0          245.1  \n",
      "5      instock   13.3         42.0          558.6  \n",
      "6      instock   25.2         41.0         1033.2  \n",
      "7      instock   39.0         40.0         1560.0  \n",
      "8      instock    8.6         38.0          326.8  \n",
      "9      instock   10.9         38.0          414.2  \n"
     ]
    }
   ],
   "source": [
    "# Top 10 best-selling bottles\n",
    "top_10_sales = ca_prod_bottleneck.nlargest(10, \"total_sales\").reset_index(drop=True)\n",
    "print(\"\\nThe top 10 best-selling bottles are as follows:\")\n",
    "print(top_10_sales)"
   ]
  },
  {
   "cell_type": "code",
   "execution_count": 37,
   "id": "ed503f59",
   "metadata": {},
   "outputs": [
    {
     "name": "stdout",
     "output_type": "stream",
     "text": [
      "\n",
      "The total revenue generated online is 70569 €\n"
     ]
    }
   ],
   "source": [
    "# Total revenue\n",
    "ca_bottleneck = ca_prod_bottleneck[\"sales_revenue\"].sum()\n",
    "print(\"\\nThe total revenue generated online is\", round(ca_bottleneck), \"€\")"
   ]
  },
  {
   "cell_type": "markdown",
   "id": "e22b5617",
   "metadata": {},
   "source": [
    "## 4. Univariate analysis"
   ]
  },
  {
   "cell_type": "markdown",
   "id": "94c717af",
   "metadata": {},
   "source": [
    "### 4.1 Price analysis<a class=\"anchor\" id=\"sous_partie4-1\"></a>"
   ]
  },
  {
   "cell_type": "markdown",
   "id": "628c3d02",
   "metadata": {},
   "source": [
    "Are there input errors in some product prices?"
   ]
  },
  {
   "cell_type": "code",
   "execution_count": 38,
   "id": "9d895696",
   "metadata": {},
   "outputs": [],
   "source": [
    "# Representation of price variable in a table\n",
    "price_description = ca_prod_bottleneck[\"price\"].describe()\n",
    "price_counts = ca_prod_bottleneck[\"price\"].value_counts()\n",
    "price_table = pd.concat([price_counts, price_counts / len(ca_prod_bottleneck)], axis=1)\n",
    "price_table.columns = [\"Frequency\", \"Relative Frequency\"]\n",
    "price_table[\"Cumulative Frequency\"] = price_table[\"Relative Frequency\"].cumsum()"
   ]
  },
  {
   "cell_type": "code",
   "execution_count": 39,
   "id": "ee10efeb",
   "metadata": {},
   "outputs": [
    {
     "name": "stdout",
     "output_type": "stream",
     "text": [
      "Price Distribution Table:\n"
     ]
    },
    {
     "data": {
      "text/html": [
       "<div>\n",
       "<style scoped>\n",
       "    .dataframe tbody tr th:only-of-type {\n",
       "        vertical-align: middle;\n",
       "    }\n",
       "\n",
       "    .dataframe tbody tr th {\n",
       "        vertical-align: top;\n",
       "    }\n",
       "\n",
       "    .dataframe thead th {\n",
       "        text-align: right;\n",
       "    }\n",
       "</style>\n",
       "<table border=\"1\" class=\"dataframe\">\n",
       "  <thead>\n",
       "    <tr style=\"text-align: right;\">\n",
       "      <th></th>\n",
       "      <th>Frequency</th>\n",
       "      <th>Relative Frequency</th>\n",
       "      <th>Cumulative Frequency</th>\n",
       "    </tr>\n",
       "  </thead>\n",
       "  <tbody>\n",
       "    <tr>\n",
       "      <th>9.9</th>\n",
       "      <td>6</td>\n",
       "      <td>0.015584</td>\n",
       "      <td>0.015584</td>\n",
       "    </tr>\n",
       "    <tr>\n",
       "      <th>9.3</th>\n",
       "      <td>6</td>\n",
       "      <td>0.015584</td>\n",
       "      <td>0.031169</td>\n",
       "    </tr>\n",
       "    <tr>\n",
       "      <th>19.0</th>\n",
       "      <td>6</td>\n",
       "      <td>0.015584</td>\n",
       "      <td>0.046753</td>\n",
       "    </tr>\n",
       "    <tr>\n",
       "      <th>16.3</th>\n",
       "      <td>4</td>\n",
       "      <td>0.010390</td>\n",
       "      <td>0.057143</td>\n",
       "    </tr>\n",
       "    <tr>\n",
       "      <th>38.6</th>\n",
       "      <td>4</td>\n",
       "      <td>0.010390</td>\n",
       "      <td>0.067532</td>\n",
       "    </tr>\n",
       "  </tbody>\n",
       "</table>\n",
       "</div>"
      ],
      "text/plain": [
       "      Frequency  Relative Frequency  Cumulative Frequency\n",
       "9.9           6            0.015584              0.015584\n",
       "9.3           6            0.015584              0.031169\n",
       "19.0          6            0.015584              0.046753\n",
       "16.3          4            0.010390              0.057143\n",
       "38.6          4            0.010390              0.067532"
      ]
     },
     "metadata": {},
     "output_type": "display_data"
    }
   ],
   "source": [
    "# Displaying the price table\n",
    "print(\"Price Distribution Table:\")\n",
    "display(price_table.head())"
   ]
  },
  {
   "cell_type": "markdown",
   "id": "f1700d2c",
   "metadata": {},
   "source": [
    "Prices appear to be heterogeneous: some are large, some are small, and some are in-between. This makes it difficult to interpret the average (which is very sensitive to atypical values), which here is €26.59.\n",
    "\n",
    "In France, a bottle of wine costs an average of €6.33 and a bottle of champagne €30."
   ]
  },
  {
   "cell_type": "code",
   "execution_count": 40,
   "id": "403a8b86",
   "metadata": {},
   "outputs": [
    {
     "data": {
      "image/png": "[encoded data removed]",
      "text/plain": [
       "<Figure size 640x480 with 1 Axes>"
      ]
     },
     "metadata": {},
     "output_type": "display_data"
    }
   ],
   "source": [
    "# Price distribution visualization\n",
    "plt.hist(ca_prod_bottleneck[\"price\"], color=\"#A6263E\")\n",
    "plt.xlabel(\"Price\")\n",
    "plt.ylabel(\"Number of Products\")\n",
    "plt.title(\"Distribution of Product Prices\")\n",
    "plt.show()"
   ]
  },
  {
   "cell_type": "code",
   "execution_count": 41,
   "id": "16ba1a0d",
   "metadata": {},
   "outputs": [
    {
     "name": "stdout",
     "output_type": "stream",
     "text": [
      "\n",
      "Measures of Central Tendency:\n",
      "Mean: 26.58 €\n",
      "Median: 19 €\n"
     ]
    }
   ],
   "source": [
    "# Measures of central tendency\n",
    "mean_price = ca_prod_bottleneck[\"price\"].mean()\n",
    "median_price = ca_prod_bottleneck[\"price\"].median()\n",
    "print(\"\\nMeasures of Central Tendency:\")\n",
    "print(\"Mean:\", round(mean_price, 2), \"€\")\n",
    "print(\"Median:\", round(median_price), \"€\")"
   ]
  },
  {
   "cell_type": "code",
   "execution_count": 42,
   "id": "992ec3ea",
   "metadata": {},
   "outputs": [
    {
     "name": "stdout",
     "output_type": "stream",
     "text": [
      "\n",
      "Measures of Shape:\n",
      "Skewness: 3.72\n",
      "Kurtosis: 20.19\n"
     ]
    }
   ],
   "source": [
    "# Measures of shape\n",
    "skewness_price = ca_prod_bottleneck[\"price\"].skew()\n",
    "kurtosis_price = ca_prod_bottleneck[\"price\"].kurtosis()\n",
    "print(\"\\nMeasures of Shape:\")\n",
    "print(\"Skewness:\", round(skewness_price, 2))\n",
    "print(\"Kurtosis:\", round(kurtosis_price, 2))"
   ]
  },
  {
   "cell_type": "code",
   "execution_count": 43,
   "id": "3a285904",
   "metadata": {},
   "outputs": [
    {
     "name": "stdout",
     "output_type": "stream",
     "text": [
      "\n",
      "Measures of Dispersion:\n",
      "Variance: 620.12\n",
      "Standard Deviation: 24.9 €\n",
      "Coefficient of Variation: 0.94\n"
     ]
    }
   ],
   "source": [
    "# Measures of dispersion\n",
    "variance_price = ca_prod_bottleneck[\"price\"].var(ddof=0)\n",
    "std_dev_price = ca_prod_bottleneck[\"price\"].std(ddof=0)\n",
    "cv_price = std_dev_price / mean_price\n",
    "print(\"\\nMeasures of Dispersion:\")\n",
    "print(\"Variance:\", round(variance_price, 2))\n",
    "print(\"Standard Deviation:\", round(std_dev_price, 2), \"€\")\n",
    "print(\"Coefficient of Variation:\", round(cv_price, 2))"
   ]
  },
  {
   "cell_type": "code",
   "execution_count": 44,
   "id": "37a6ba56",
   "metadata": {},
   "outputs": [
    {
     "data": {
      "image/png": "[encoded data removed]",
      "text/plain": [
       "<Figure size 800x500 with 1 Axes>"
      ]
     },
     "metadata": {},
     "output_type": "display_data"
    }
   ],
   "source": [
    "# Visual representation of price dispersion\n",
    "plt.figure(figsize=(8, 5))\n",
    "plt.boxplot(ca_prod_bottleneck[\"price\"], patch_artist=True, vert=False, boxprops=dict(facecolor=\"#A6263E\"))\n",
    "plt.yticks([1], [\"Price\"])\n",
    "plt.title(\"Price Distribution\")\n",
    "plt.show()"
   ]
  },
  {
   "cell_type": "markdown",
   "id": "b2fadbba",
   "metadata": {},
   "source": [
    "### 4.2 Outlier analysis"
   ]
  },
  {
   "cell_type": "code",
   "execution_count": 45,
   "id": "9d1386e8",
   "metadata": {},
   "outputs": [
    {
     "name": "stdout",
     "output_type": "stream",
     "text": [
      "Interquartile Range (IQR): 19.2 \n",
      "\n"
     ]
    }
   ],
   "source": [
    "q1 = np.quantile(ca_prod_bottleneck[\"price\"], 0.25)\n",
    "q3 = np.quantile(ca_prod_bottleneck[\"price\"], 0.75)\n",
    "iqr = q3 - q1\n",
    "\n",
    "print(\"Interquartile Range (IQR):\", round(iqr, 2), \"\\n\")"
   ]
  },
  {
   "cell_type": "markdown",
   "id": "621caefb",
   "metadata": {},
   "source": [
    "We therefore have atypical values that we can link to very luxurious bottles (champagne, cognac, vintage, etc.).\n",
    "These prices therefore do not appear to be errors."
   ]
  },
  {
   "cell_type": "code",
   "execution_count": 46,
   "id": "4989e832",
   "metadata": {},
   "outputs": [
    {
     "name": "stdout",
     "output_type": "stream",
     "text": [
      "Outliers are as follows:\n",
      "5       80.0\n",
      "12      71.6\n",
      "126     69.8\n",
      "135    225.0\n",
      "136     79.5\n",
      "137    126.5\n",
      "139     85.6\n",
      "142     62.5\n",
      "143    176.0\n",
      "144    108.5\n",
      "145    104.0\n",
      "149     61.6\n",
      "165     62.4\n",
      "236    137.0\n",
      "293     65.9\n",
      "299     63.4\n",
      "339    191.3\n",
      "359    135.0\n",
      "365    115.0\n",
      "371     68.3\n",
      "Name: price, dtype: float64\n"
     ]
    }
   ],
   "source": [
    "# Outliers Detection\n",
    "upper_bound = q3 + (1.5 * iqr)\n",
    "lower_bound = q1 - (1.5 * iqr)\n",
    "\n",
    "outliers = ca_prod_bottleneck[\"price\"][(ca_prod_bottleneck[\"price\"] <= lower_bound) | (ca_prod_bottleneck[\"price\"] >= upper_bound)]\n",
    "\n",
    "print(\"Outliers are as follows:\\n{}\".format(outliers))"
   ]
  },
  {
   "cell_type": "code",
   "execution_count": 47,
   "id": "2b73922f",
   "metadata": {},
   "outputs": [],
   "source": [
    "# Outliers Based on Z-Score\n",
    "ca_prod_bottleneck[\"zscore\"] = (ca_prod_bottleneck[\"price\"] - ca_prod_bottleneck[\"price\"].mean()) / ca_prod_bottleneck[\"price\"].std()"
   ]
  },
  {
   "cell_type": "code",
   "execution_count": 48,
   "id": "2ce47dd5",
   "metadata": {},
   "outputs": [
    {
     "name": "stdout",
     "output_type": "stream",
     "text": [
      "\n",
      "Top 10 outliers based on Z-Score:\n",
      "  product_id    sku                                         post_title  \\\n",
      "0       4352  15940     Champagne Egly-Ouriet Grand Cru Millésimé 2008   \n",
      "1       5892  14983  Coteaux Champenois Egly-Ouriet Ambonnay Rouge ...   \n",
      "2       4402   3510                               Cognac Frapin VIP XO   \n",
      "3       4904  14220  Domaine Des Croix Corton Charlemagne Grand Cru...   \n",
      "4       6126  14923             Champagne Gosset Célébris Vintage 2007   \n",
      "5       4355  12589     Champagne Egly-Ouriet Grand Cru Blanc de Noirs   \n",
      "6       6212  13996  Domaine des Comtes Lafon Volnay 1er Cru Santen...   \n",
      "7       4404   3507              Cognac Frapin Château de Fontpinot XO   \n",
      "8       4407   3509                          Cognac Frapin Cigar Blend   \n",
      "\n",
      "  stock_status  price  total_sales  sales_revenue    zscore  \n",
      "0   outofstock  225.0          5.0         1125.0  7.957582  \n",
      "1      instock  191.3          3.0          573.9  6.606043  \n",
      "2      instock  176.0         13.0         2288.0  5.992436  \n",
      "3      instock  137.0          5.0          685.0  4.428340  \n",
      "4      instock  135.0          2.0          270.0  4.348130  \n",
      "5      instock  126.5         11.0         1391.5  4.007237  \n",
      "6      instock  115.0          2.0          230.0  3.546029  \n",
      "7      instock  108.5          2.0          217.0  3.285347  \n",
      "8      instock  104.0          1.0          104.0  3.104874  \n"
     ]
    }
   ],
   "source": [
    "# Threshold for Z-Score\n",
    "zscore_threshold = 3\n",
    "high_zscore_outliers = ca_prod_bottleneck[ca_prod_bottleneck[\"zscore\"] > zscore_threshold]\n",
    "\n",
    "print(\"\\nTop 10 outliers based on Z-Score:\")\n",
    "print(high_zscore_outliers.sort_values(\"price\", ascending=False).reset_index(drop=True)[0:10])"
   ]
  },
  {
   "cell_type": "markdown",
   "id": "97b72b4a",
   "metadata": {},
   "source": [
    "We can assume that if a zscore is greater than 3, the value is unusual. Here, we can see that the most expensive bottles have the highest zscores. We find the same bottles as with the interquartile range method."
   ]
  },
  {
   "cell_type": "code",
   "execution_count": 49,
   "id": "af717cf6",
   "metadata": {},
   "outputs": [
    {
     "data": {
      "image/png": "[encoded data removed]",
      "text/plain": [
       "<Figure size 800x500 with 1 Axes>"
      ]
     },
     "metadata": {},
     "output_type": "display_data"
    },
    {
     "name": "stdout",
     "output_type": "stream",
     "text": [
      "Category [0-50 €] n = 344 - Mean: 20.28 € | Median: 16.90 €\n",
      "Category [50-100 €] n = 32 - Mean: 60.56 € | Median: 59.00 €\n",
      "Category [100-150 €] n = 6 - Mean: 121.00 € | Median: 120.75 €\n",
      "Category [>150 €] n = 3 - Mean: 197.43 € | Median: 191.30 €\n"
     ]
    }
   ],
   "source": [
    "# Visualizing price distribution\n",
    "values = ca_prod_bottleneck[\"price\"]\n",
    "bins = [0, 50, 100, 150, np.inf]\n",
    "labels = [\"0-50 €\", \"50-100 €\", \"100-150 €\", \">150 €\"]\n",
    "\n",
    "ca_prod_bottleneck[\"price_category\"] = pd.cut(values, bins=bins, labels=labels, right=False)\n",
    "\n",
    "fig, ax = plt.subplots(figsize=(8, 5))\n",
    "sns.boxplot(x=\"price\", y=\"price_category\", data=ca_prod_bottleneck, ax=ax, palette={\"0-50 €\": \"#D9899E\", \"50-100 €\": '#F2F2F2', \"100-150 €\": '#A6263E', \">150 €\": '#8C1F33'})\n",
    "ax.set_ylabel(\"Price Category\")\n",
    "ax.set_xlabel(\"Price (€)\")\n",
    "ax.set_title(\"Category-wise Price Distribution\")\n",
    "plt.show()\n",
    "\n",
    "for label in labels:\n",
    "    category_data = ca_prod_bottleneck[ca_prod_bottleneck[\"price_category\"] == label][\"price\"]\n",
    "    print(f\"Category [{label}] n = {len(category_data)} - Mean: {category_data.mean():.2f} € | Median: {category_data.median():.2f} €\")"
   ]
  },
  {
   "cell_type": "code",
   "execution_count": 50,
   "id": "b39d84d0",
   "metadata": {},
   "outputs": [
    {
     "name": "stdout",
     "output_type": "stream",
     "text": [
      "\n",
      "Category [0-50 €]:\n",
      "Interquartile Range (IQR): 14.15\n",
      "Outliers:\n",
      "46     49.0\n",
      "90     48.5\n",
      "133    49.0\n",
      "140    49.5\n",
      "154    49.0\n",
      "285    49.5\n",
      "290    48.4\n",
      "345    48.5\n",
      "346    49.5\n",
      "382    49.9\n",
      "Name: price, dtype: float64\n",
      "\n",
      "Category [50-100 €]:\n",
      "Interquartile Range (IQR): 8.33\n",
      "Outliers:\n",
      "5      80.0\n",
      "136    79.5\n",
      "139    85.6\n",
      "Name: price, dtype: float64\n"
     ]
    }
   ],
   "source": [
    "# Detailed analysis for categories [0-50 €] and [50-100 €]\n",
    "for label in [\"0-50 €\", \"50-100 €\"]:\n",
    "    print(f\"\\nCategory [{label}]:\")\n",
    "    \n",
    "    # Category data\n",
    "    category_data = ca_prod_bottleneck[ca_prod_bottleneck[\"price_category\"] == label][\"price\"]\n",
    "\n",
    "    # Interquartile range (IQR)\n",
    "    q1 = category_data.quantile(0.25)\n",
    "    q3 = category_data.quantile(0.75)\n",
    "    iqr = q3 - q1\n",
    "    print(f\"Interquartile Range (IQR): {iqr:.2f}\")\n",
    "    \n",
    "    # Outlier bounds\n",
    "    upper_bound = q3 + 1.5 * iqr\n",
    "    lower_bound = q1 - 1.5 * iqr\n",
    "\n",
    "    # Outliers\n",
    "    outliers = category_data[(category_data < lower_bound) | (category_data > upper_bound)]\n",
    "    print(\"Outliers:\")\n",
    "    print(outliers)"
   ]
  },
  {
   "cell_type": "markdown",
   "id": "a0f84bfc",
   "metadata": {},
   "source": [
    "### 4.3 Univariate analysis of “Sales” variable"
   ]
  },
  {
   "cell_type": "code",
   "execution_count": 51,
   "id": "c4693ea1",
   "metadata": {},
   "outputs": [
    {
     "data": {
      "image/png": "[encoded data removed]",
      "text/plain": [
       "<Figure size 640x480 with 1 Axes>"
      ]
     },
     "metadata": {},
     "output_type": "display_data"
    }
   ],
   "source": [
    "# Histogram for Sales Revenue\n",
    "plt.hist(ca_prod_bottleneck[\"sales_revenue\"], color=\"#A6263E\")\n",
    "plt.xlabel(\"Sales Revenue (€)\")\n",
    "plt.ylabel(\"Number of Products\")\n",
    "plt.title(\"Distribution of Sales Revenue\")\n",
    "plt.show()"
   ]
  },
  {
   "cell_type": "code",
   "execution_count": 52,
   "id": "1c1bff2c",
   "metadata": {},
   "outputs": [
    {
     "name": "stdout",
     "output_type": "stream",
     "text": [
      "Mean: 183.30 €\n",
      "Median: 81.60 €\n",
      "Skewness: 7.47\n",
      "Kurtosis: 72.10\n"
     ]
    }
   ],
   "source": [
    "# Measures of Central Tendency & Dispersion\n",
    "sales_revenue = ca_prod_bottleneck[\"sales_revenue\"]\n",
    "mean_sales = sales_revenue.mean()\n",
    "median_sales = sales_revenue.median()\n",
    "skewness_sales = sales_revenue.skew()\n",
    "kurtosis_sales = sales_revenue.kurtosis()\n",
    "\n",
    "print(f\"Mean: {mean_sales:.2f} €\")\n",
    "print(f\"Median: {median_sales:.2f} €\")\n",
    "print(f\"Skewness: {skewness_sales:.2f}\")\n",
    "print(f\"Kurtosis: {kurtosis_sales:.2f}\")"
   ]
  },
  {
   "cell_type": "code",
   "execution_count": 53,
   "id": "a2cc0ade",
   "metadata": {},
   "outputs": [
    {
     "data": {
      "image/png": "[encoded data removed]",
      "text/plain": [
       "<Figure size 800x500 with 1 Axes>"
      ]
     },
     "metadata": {},
     "output_type": "display_data"
    },
    {
     "name": "stdout",
     "output_type": "stream",
     "text": [
      "Variance: 159843.11\n",
      "Standard Deviation: 399.80 €\n",
      "Coefficient of Variation: 2.18\n"
     ]
    }
   ],
   "source": [
    "# Boxplot for Sales Revenue\n",
    "plt.figure(figsize=(8, 5))\n",
    "plt.boxplot(sales_revenue, patch_artist=True, vert=False, boxprops=dict(facecolor=\"#A6263E\"))\n",
    "plt.yticks([1], [\"Sales Revenue\"])\n",
    "plt.title(\"Boxplot of Sales Revenue\")\n",
    "plt.show()\n",
    "\n",
    "print(f\"Variance: {sales_revenue.var(ddof=0):.2f}\")\n",
    "print(f\"Standard Deviation: {sales_revenue.std(ddof=0):.2f} €\")\n",
    "print(f\"Coefficient of Variation: {sales_revenue.std() / mean_sales:.2f}\")"
   ]
  },
  {
   "cell_type": "code",
   "execution_count": 54,
   "id": "301de3dc",
   "metadata": {},
   "outputs": [
    {
     "data": {
      "image/png": "[encoded data removed]",
      "text/plain": [
       "<Figure size 640x480 with 1 Axes>"
      ]
     },
     "metadata": {},
     "output_type": "display_data"
    }
   ],
   "source": [
    "# Lorenz Curve\n",
    "sorted_revenue = np.sort(sales_revenue)[::-1]\n",
    "cumulative_revenue = np.cumsum(sorted_revenue)\n",
    "percentage_products = np.arange(1, len(cumulative_revenue) + 1) / len(cumulative_revenue)\n",
    "percentage_revenue = cumulative_revenue / cumulative_revenue[-1]\n",
    "\n",
    "plt.plot(percentage_products, percentage_revenue, drawstyle='steps-post', color=\"#A6263E\")\n",
    "plt.plot([0, 1], [0, 1], linestyle='--', color='gray')\n",
    "plt.title(\"Lorenz Curve\")\n",
    "plt.xlabel(\"Percentage of Products\")\n",
    "plt.ylabel(\"Percentage of Sales Revenue\")\n",
    "plt.show()"
   ]
  },
  {
   "cell_type": "code",
   "execution_count": 55,
   "id": "6190aad4",
   "metadata": {},
   "outputs": [
    {
     "name": "stdout",
     "output_type": "stream",
     "text": [
      "Gini Index: -0.64\n"
     ]
    }
   ],
   "source": [
    "# GINI Index\n",
    "AUC = (percentage_revenue.sum() - percentage_revenue[-1] / 2 - percentage_revenue[0] / 2) / len(percentage_revenue)\n",
    "gini = 2 * (0.5 - AUC)\n",
    "print(f\"Gini Index: {gini:.2f}\")"
   ]
  },
  {
   "cell_type": "markdown",
   "id": "c596a540",
   "metadata": {},
   "source": [
    "Overall, this indicates that bottles with \"atypical\" prices have a major influence on sales."
   ]
  },
  {
   "cell_type": "markdown",
   "id": "3c3165fe",
   "metadata": {},
   "source": [
    "### 4.4 Bivariate analysis of “Number of sales” and “Price” variables"
   ]
  },
  {
   "cell_type": "markdown",
   "id": "c8f3f0a0",
   "metadata": {},
   "source": [
    "Is the number of sales correlated with price?"
   ]
  },
  {
   "cell_type": "code",
   "execution_count": 56,
   "id": "c1798cdd",
   "metadata": {},
   "outputs": [
    {
     "data": {
      "image/png": "[encoded data removed]",
      "text/plain": [
       "<Figure size 800x500 with 1 Axes>"
      ]
     },
     "metadata": {},
     "output_type": "display_data"
    }
   ],
   "source": [
    "# Scatter plot of Total Sales vs. Price\n",
    "plt.figure(figsize=(8, 5))\n",
    "sns.scatterplot(data=ca_prod_bottleneck, x=\"total_sales\", y=\"price\", color=\"#A6263E\", marker=\"D\", s=10)\n",
    "plt.title(\"Online Sales vs. Price\")\n",
    "plt.xlabel(\"Total Sales\")\n",
    "plt.ylabel(\"Price\")\n",
    "plt.show()"
   ]
  },
  {
   "cell_type": "code",
   "execution_count": 57,
   "id": "20140d24",
   "metadata": {},
   "outputs": [
    {
     "name": "stdout",
     "output_type": "stream",
     "text": [
      "Pearson Correlation Coefficient: -0.06\n"
     ]
    }
   ],
   "source": [
    "# Pearson Correlation Coefficient\n",
    "pearson_corr = ca_prod_bottleneck[\"price\"].corr(ca_prod_bottleneck[\"total_sales\"])\n",
    "print(f\"Pearson Correlation Coefficient: {pearson_corr:.2f}\")"
   ]
  },
  {
   "cell_type": "code",
   "execution_count": 58,
   "id": "d06642db",
   "metadata": {},
   "outputs": [
    {
     "data": {
      "image/png": "[encoded data removed]",
      "text/plain": [
       "<Figure size 800x500 with 1 Axes>"
      ]
     },
     "metadata": {},
     "output_type": "display_data"
    }
   ],
   "source": [
    "# Scatter plot of Total Sales vs. Price without outliers\n",
    "plt.figure(figsize=(8, 5))\n",
    "outliers_filtered = ca_prod_bottleneck[(ca_prod_bottleneck[\"zscore\"] > -2) & (ca_prod_bottleneck[\"zscore\"] < 2)]\n",
    "sns.scatterplot(data=outliers_filtered, x=\"total_sales\", y=\"price\", color=\"#A6263E\", marker=\"D\", s=20)\n",
    "plt.title(\"Online Sales vs. Price without Outliers\")\n",
    "plt.xlabel(\"Total Sales\")\n",
    "plt.ylabel(\"Price\")\n",
    "plt.show()"
   ]
  },
  {
   "cell_type": "code",
   "execution_count": 59,
   "id": "c3e61f99",
   "metadata": {},
   "outputs": [
    {
     "name": "stdout",
     "output_type": "stream",
     "text": [
      "Pearson Correlation Coefficient without Outliers: -0.04\n"
     ]
    }
   ],
   "source": [
    "# Pearson Correlation Coefficient without outliers\n",
    "pearson_corr_no_outliers = outliers_filtered[\"price\"].corr(outliers_filtered[\"total_sales\"])\n",
    "print(f\"Pearson Correlation Coefficient without Outliers: {pearson_corr_no_outliers:.2f}\")"
   ]
  },
  {
   "cell_type": "markdown",
   "id": "4eb1b9cb",
   "metadata": {},
   "source": [
    "Therefore, the price has an influence on the number of sales. Removing the bottles considered 'luxurious', higher-priced bottles tend to generate fewer sales."
   ]
  }
 ],
 "metadata": {
  "kernelspec": {
   "display_name": "Python 3 (ipykernel)",
   "language": "python",
   "name": "python3"
  },
  "language_info": {
   "codemirror_mode": {
    "name": "ipython",
    "version": 3
   },
   "file_extension": ".py",
   "mimetype": "text/x-python",
   "name": "python",
   "nbconvert_exporter": "python",
   "pygments_lexer": "ipython3",
   "version": "3.10.9"
  }
 },
 "nbformat": 4,
 "nbformat_minor": 5
}
